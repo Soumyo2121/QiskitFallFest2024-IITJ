{
 "cells": [
  {
   "cell_type": "code",
   "execution_count": null,
   "id": "5ab0732f-4f3b-420a-971d-fbcd0e4f97cc",
   "metadata": {},
   "outputs": [],
   "source": [
    "#importing necessary libraries\n",
    "from qiskit import *\n",
    "from qiskit_aer import Aer\n",
    "from qiskit import QuantumCircuit, transpile\n",
    "from qiskit.visualization import *\n",
    "from qiskit_aer import QasmSimulator\n",
    "#Constructing the circuit\n",
    "n = int(input(\"Enter the length of bitstring: \"))\n",
    "n_q = n\n",
    "n_c = n\n",
    "qc = QuantumCircuit(n_q, n_c)\n",
    "for i in range(n):\n",
    "    qc.h(i)\n",
    "    qc.measure(i, i)\n",
    "qc.draw('mpl')\n",
    "#Execution of Circuit(for multiple shots to understand superposition)\n",
    "shot = int(input(\"Enter the number of shots you want(shots>1): \"))\n",
    "simulator = Aer.get_backend('qasm_simulator')\n",
    "job = simulator.run(qc, shots=shot)\n",
    "result_superposition = job.result().get_counts()\n",
    "result_superposition\n",
    "plot_histogram(result_superposition)\n",
    "from qiskit_ibm_runtime import QiskitRuntimeService\n",
    "from qiskit_ibm_runtime import EstimatorV2 as Estimator\n",
    "QiskitRuntimeService.save_account(channel=\"ibm_quantum\", token=\"1cec2291cf5af5ab17f315eb0981c6eba52d9c117f68e17177ac022ed67a7aa27404e4d63a05784e812ba1a90d1834a38f0ffe2a2a8cb0ac001105acc23aad95\")\n",
    "\n",
    "service = QiskitRuntimeService()\n",
    "backend = service.least_busy(operational=True, simulator=False)\n",
    " \n",
    "# Setting options during primitive initialization\n",
    "estimator = Estimator(backend, options={\"resilience_level\": 2})\n",
    "from qiskit.quantum_info import SparsePauliOp\n",
    "\n",
    "# Define a valid observable using Pauli X operators on each qubit\n",
    "observable = SparsePauliOp.from_list([(\"X\" * n, 1.0)])  # n Pauli Z's acting on each qubit\n",
    "print(observable)\n",
    "#transpiled_qc = transpile(qc, backend=backend)\n",
    "from qiskit.transpiler.preset_passmanagers import generate_preset_pass_manager\n",
    "\n",
    "pass_manager = generate_preset_pass_manager(\n",
    "    optimization_level=3, backend=backend, seed_transpiler=1234\n",
    ")\n",
    "isa_circuit = pass_manager.run(qc)\n",
    "\n",
    "isa_circuit.draw(\"mpl\", idle_wires=False, scale=0.7, fold=-1)\n",
    "isa_observable = observable.apply_layout(isa_circuit.layout)\n",
    "\n",
    "print(\"Original observable:\")\n",
    "print(observable)\n",
    "print()\n",
    "print(\"Observable with layout applied:\")\n",
    "print(isa_observable)\n",
    "from qiskit_ibm_runtime import QiskitRuntimeService, EstimatorV2 as Estimator, Batch\n",
    "# To store job results\n",
    "jobs = []\n",
    "\n",
    "# Create a batch execution to test different configurations\n",
    "with Batch(backend=backend) as batch:\n",
    "    estimator = Estimator(mode=batch)\n",
    "    \n",
    "    # Set default number of shots to 100,000 for each job\n",
    "    estimator.options.default_shots = 100000\n",
    "    \n",
    "    # Define the observable and circuit pair for the Estimator\n",
    "    pub = (isa_circuit, isa_observable)\n",
    "\n",
    "    # Job 0: No error mitigation\n",
    "    estimator.options.optimization_level = 0  # Disable runtime compilation\n",
    "    estimator.options.resilience_level = 0    # Disable error mitigation\n",
    "    job0 = estimator.run([pub])               # Submit job\n",
    "    jobs.append(job0)\n",
    "\n",
    "\n",
    "    # Job 1:Gate Twirling\n",
    "    estimator.options.twirling.enable_gates = True          # Enable gate twirling\n",
    "    estimator.options.twirling.num_randomizations = \"auto\"  # Automatic randomization count\n",
    "    job2 = estimator.run([pub])                             # Submit job with DD + TREX + Twirling\n",
    "    jobs.append(job2)\n",
    "\n",
    "    # Job 2:Twirling + Zero-Noise Extrapolation (ZNE)\n",
    "    estimator.options.resilience.zne_mitigation = True      # Enable ZNE mitigation\n",
    "    estimator.options.resilience.zne.noise_factors = (1, 3, 5)  # Noise scaling factors\n",
    "    estimator.options.resilience.zne.extrapolator = (\"exponential\", \"linear\")  # Extrapolation methods\n",
    "    job3 = estimator.run([pub])                             # Submit job with full error mitigation\n",
    "    jobs.append(job3)\n",
    "#Post-process and return results in classical format\n",
    "import matplotlib.pyplot as plt\n",
    "import numpy as np\n",
    "# Retrieve the job results\n",
    "results = [job.result() for job in jobs]\n",
    "\n",
    "# Unpack the PUB results (there's only one PUB result in each job result)\n",
    "pub_results = [result[0] for result in results]\n",
    "\n",
    "# Unpack the expectation values and standard errors\n",
    "expectation_vals = np.array([float(pub_result.data.evs) for pub_result in pub_results])\n",
    "standard_errors = np.array([float(pub_result.data.stds) for pub_result in pub_results])\n",
    "\n",
    "# Plot the expectation values\n",
    "fig, ax = plt.subplots()\n",
    "labels = [\"No mitigation\", \"+ Twirling\", \"+ ZNE\"]\n",
    "ax.bar(range(len(labels)), expectation_vals, yerr=standard_errors, label=\"experiment\")\n",
    "ax.axhline(y=1.0, color=\"gray\", linestyle=\"--\", label=\"ideal\")\n",
    "ax.set_xticks(range(len(labels)))\n",
    "ax.set_xticklabels(labels)\n",
    "ax.set_ylabel(\"Expectation value\")\n",
    "ax.legend(loc=\"upper left\")\n",
    "\n",
    "plt.show()\n",
    "\n",
    "#We can see there is no significant improvement and Zero Noise Extrapolation has lower performance than no mitigation, so now we execute readout error mitigation technique and compare it with no error and Twirling and see the result\n",
    "jobs_new = []\n",
    "\n",
    "# Create a batch execution to test different configurations\n",
    "with Batch(backend=backend) as batch:\n",
    "    estimator = Estimator(mode=batch)\n",
    "    \n",
    "    # Set default number of shots to 100,000 for each job\n",
    "    estimator.options.default_shots = 100000\n",
    "    \n",
    "    # Define the observable and circuit pair for the Estimator\n",
    "    pub = (isa_circuit, isa_observable)\n",
    "\n",
    "    # Job 1: No error mitigation\n",
    "    estimator.options.optimization_level = 0  # Disable runtime compilation\n",
    "    estimator.options.resilience_level = 0    # Disable error mitigation\n",
    "    job1 = estimator.run([pub])               # Submit job\n",
    "    jobs_new.append(job1)\n",
    "\n",
    "    #Job 2: Readout Error Mitigation (TREX)\n",
    "    estimator.options.resilience.measure_mitigation = True  # Enable readout error mitigation\n",
    "    job2 = estimator.run([pub])                             # Submit job with  TREX\n",
    "    jobs_new.append(job2)\n",
    "# Job 3:Gate Twirling\n",
    "    estimator.options.twirling.enable_gates = True          # Enable gate twirling\n",
    "    estimator.options.twirling.num_randomizations = \"auto\"  # Automatic randomization count\n",
    "    job3 = estimator.run([pub])                             # Submit job with TREX + Twirling\n",
    "    jobs_new.append(job3)\n",
    "\n",
    "\n",
    "#Post-process and return results in classical format\n",
    "import matplotlib.pyplot as plt\n",
    "\n",
    "# Retrieve the job results\n",
    "results = [job.result() for job in jobs_new]\n",
    "\n",
    "# Unpack the PUB results (there's only one PUB result in each job result)\n",
    "pub_results = [result[0] for result in results]\n",
    "\n",
    "# Unpack the expectation values and standard errors\n",
    "expectation_vals = np.array([float(pub_result.data.evs) for pub_result in pub_results])\n",
    "standard_errors = np.array([float(pub_result.data.stds) for pub_result in pub_results])\n",
    "\n",
    "# Plot the expectation values\n",
    "fig, ax = plt.subplots()\n",
    "labels = [\"No mitigation\",\"TREX\",\"+Twirling\"]\n",
    "ax.bar(range(len(labels)), expectation_vals, yerr=standard_errors, label=\"experiment\")\n",
    "ax.axhline(y=1.0, color=\"gray\", linestyle=\"--\", label=\"ideal\")\n",
    "ax.set_xticks(range(len(labels)))\n",
    "ax.set_xticklabels(labels)\n",
    "ax.set_ylabel(\"Expectation value\")\n",
    "ax.legend(loc=\"upper left\")\n",
    "\n",
    "plt.show()"
   ]
  },
  {
   "cell_type": "code",
   "execution_count": 2,
   "id": "6ac946a6-33a6-4d4a-a4fa-770e149ab625",
   "metadata": {},
   "outputs": [
    {
     "name": "stderr",
     "output_type": "stream",
     "text": [
      "2024-10-18 22:29:41.940 \n",
      "  \u001b[33m\u001b[1mWarning:\u001b[0m to view this Streamlit app on a browser, run it with the following\n",
      "  command:\n",
      "\n",
      "    streamlit run /opt/anaconda3/lib/python3.12/site-packages/ipykernel_launcher.py [ARGUMENTS]\n"
     ]
    }
   ],
   "source": [
    "import streamlit as st\n",
    "from qiskit import *\n",
    "from qiskit_aer import Aer\n",
    "from qiskit import QuantumCircuit, transpile\n",
    "from qiskit.visualization import *\n",
    "from qiskit_aer import QasmSimulator\n",
    "\n",
    "st.title(\"Quantum Random Number Generator (QRNG)\")\n",
    "\n",
    "# User inputs\n",
    "n = st.number_input(\"Enter the length of bitstring:\", min_value=1, value=5)\n",
    "shots = st.number_input(\"Enter the number of shots (shots > 1):\", min_value=2, value=1024)\n",
    "\n",
    "# Button to run the QRNG\n",
    "if st.button(\"Generate Random Number\"):\n",
    "    # Constructing the circuit\n",
    "    qc = QuantumCircuit(n, n)\n",
    "    for i in range(n):\n",
    "        qc.h(i)\n",
    "        qc.measure(i, i)\n",
    "\n",
    "    # Execute the circuit\n",
    "    simulator = Aer.get_backend('qasm_simulator')\n",
    "    job = simulator.run(qc, shots=shots)\n",
    "    result = job.result().get_counts()\n",
    "\n",
    "    # Display results\n",
    "    st.write(\"Result:\", result)\n",
    "    st.bar_chart(result)"
   ]
  },
  {
   "cell_type": "code",
   "execution_count": 4,
   "id": "ecccb54b-7e6f-4ea6-8a55-e0a19de05c47",
   "metadata": {},
   "outputs": [
    {
     "ename": "SyntaxError",
     "evalue": "invalid syntax (1917541618.py, line 1)",
     "output_type": "error",
     "traceback": [
      "\u001b[0;36m  Cell \u001b[0;32mIn[4], line 1\u001b[0;36m\u001b[0m\n\u001b[0;31m    streamlit run /opt/anaconda3/lib/python3.12/site-packages/ipykernel_launcher.py\u001b[0m\n\u001b[0m              ^\u001b[0m\n\u001b[0;31mSyntaxError\u001b[0m\u001b[0;31m:\u001b[0m invalid syntax\n"
     ]
    }
   ],
   "source": [
    " streamlit run /opt/anaconda3/lib/python3.12/site-packages/ipykernel_launcher.py "
   ]
  },
  {
   "cell_type": "code",
   "execution_count": null,
   "id": "f32539d3-a2b2-40f7-8147-1ed9eec418bf",
   "metadata": {},
   "outputs": [],
   "source": [
    "# Title for the app\n",
    "st.title(\"Quantum Random Number Generator\")\n",
    "\n",
    "# Input field for number of qubits (bitstring length)\n",
    "n = st.number_input(\"Enter the length of bitstring (number of qubits):\", min_value=1, value=1)\n",
    "\n",
    "# Create a Quantum Circuit\n",
    "qc = QuantumCircuit(n, n)\n",
    "\n",
    "# Apply Hadamard gate to all qubits to create superposition\n",
    "for i in range(n):\n",
    "    qc.h(i)\n",
    "    qc.measure(i, i)\n",
    "\n",
    "# Display the quantum circuit diagram\n",
    "#st.write(\"### Quantum Circuit:\")\n",
    "#st.pyplot(qc.draw('mpl'))\n",
    "\n",
    "# Run the circuit on a simulator when button is clicked\n",
    "if st.button(\"Generate Random Number\"):\n",
    "    simulator = Aer.get_backend('qasm_simulator')\n",
    "    job = simulator.run(qc, shots=shots)\n",
    "    result = job.result().get_counts()\n",
    "    \n",
    "    # Extract the random bitstring and convert to decimal\n",
    "    random_bitstring = list(result.keys())[0]\n",
    "    random_number = int(random_bitstring, 2)\n",
    "    \n",
    "    # Display the random number\n",
    "    st.write(f\"### The generated random number is: {random_number}\")\n",
    "    \n",
    "    # Display the measurement outcome (bitstring)\n",
    "    st.write(f\"### Measurement Outcome: {random_bitstring}\")"
   ]
  },
  {
   "cell_type": "code",
   "execution_count": null,
   "id": "3882b5eb-c87c-431e-8989-e4f41b4b437d",
   "metadata": {},
   "outputs": [],
   "source": [
    "import streamlit as st\n",
    "from qiskit import *\n",
    "from qiskit_aer import Aer\n",
    "from qiskit import QuantumCircuit, transpile\n",
    "from qiskit.visualization import *\n",
    "from qiskit_aer import QasmSimulator\n",
    "\n",
    "# Title for the app\n",
    "st.title(\"Quantum Random Number Generator Using Entanglement\")\n",
    "\n",
    "# Input field for number of qubit pairs\n",
    "n = st.number_input(\"Enter the number of entangled qubit pairs:\", min_value=1, value=1)\n",
    "\n",
    "# Create a Quantum Circuit with 2n qubits (for n entangled pairs)\n",
    "qc = QuantumCircuit(2*n, 2*n)\n",
    "\n",
    "# Create entanglement for each qubit pair\n",
    "for i in range(n):\n",
    "    qc.h(2*i)           # Apply Hadamard gate to the first qubit of the pair\n",
    "    qc.cx(2*i, 2*i+1)   # Apply CNOT gate to entangle the first and second qubit\n",
    "    qc.measure(2*i, 2*i)    # Measure first qubit\n",
    "    qc.measure(2*i+1, 2*i+1) # Measure second qubit\n",
    "\n",
    "\n",
    "\n",
    "# Run the circuit on a simulator when button is clicked\n",
    "if st.button(\"Generate Random Number\"):\n",
    "    simulator = Aer.get_backend('qasm_simulator')\n",
    "    job = simulator.run(qc, shots=1)\n",
    "    result = job.result().get_counts()\n",
    "\n",
    "    # Extract the random bitstring (correlated results due to entanglement)\n",
    "    random_bitstring = list(result.keys())[0]\n",
    "    random_number = int(random_bitstring, 2)\n",
    "    \n",
    "    # Display the random number\n",
    "    st.write(f\"### The generated random number is: {random_number}\")\n",
    "    \n",
    "    # Display the measurement outcome (bitstring)\n",
    "    st.write(f\"### The generated random Bitstring is: {random_bitstring}\")"
   ]
  },
  {
   "cell_type": "code",
   "execution_count": null,
   "id": "bbe3a11d-d18c-4d81-8283-07c14f2684d5",
   "metadata": {},
   "outputs": [],
   "source": [
    "streamlit run entangled_qrng_app.py"
   ]
  },
  {
   "cell_type": "code",
   "execution_count": 10,
   "id": "ad91f9e1-c70a-4370-9a0a-9218a9cfc996",
   "metadata": {},
   "outputs": [
    {
     "name": "stdin",
     "output_type": "stream",
     "text": [
      "Enter the number of entangled qubit pairs:  2\n"
     ]
    }
   ],
   "source": [
    "from qiskit import *\n",
    "from qiskit_aer import Aer\n",
    "from qiskit import QuantumCircuit, transpile\n",
    "from qiskit.visualization import *\n",
    "from qiskit_aer import QasmSimulator\n",
    "\n",
    "n = int(input(\"Enter the number of entangled qubit pairs: \"))\n",
    "nq = 2*n\n",
    "nc = 2*n\n",
    "qc = QuantumCircuit(nq, nc)\n",
    "for i in range(n):\n",
    "    qc.h(2*i)           # Apply Hadamard gate to the first qubit of the pair\n",
    "    qc.cx(2*i, 2*i+1)   # Apply CNOT gate to entangle the first and second qubit\n",
    "    qc.measure(2*i, 2*i)    # Measure first qubit\n",
    "    qc.measure(2*i+1, 2*i+1)\n",
    "\n"
   ]
  },
  {
   "cell_type": "code",
   "execution_count": 34,
   "id": "1e4d9a53-2073-4f9c-b98a-de60a347164f",
   "metadata": {},
   "outputs": [
    {
     "data": {
      "text/plain": [
       "<Figure size 621.941x451.5 with 1 Axes>"
      ]
     },
     "execution_count": 34,
     "metadata": {},
     "output_type": "execute_result"
    }
   ],
   "source": [
    "import matplotlib.pyplot as plt\n",
    "qc.draw('mpl')\n"
   ]
  },
  {
   "cell_type": "code",
   "execution_count": 20,
   "id": "b95d18cf-3402-494c-8fc6-271e1d748a7a",
   "metadata": {},
   "outputs": [
    {
     "name": "stdout",
     "output_type": "stream",
     "text": [
      "The random number is:  3\n"
     ]
    }
   ],
   "source": [
    "simulator = Aer.get_backend('qasm_simulator')\n",
    "job = simulator.run(qc, shots=1)\n",
    "result = job.result().get_counts()\n",
    "keys = result.keys()\n",
    "for key in keys:\n",
    "    print(\"The random number is: \", int(key,2))"
   ]
  },
  {
   "cell_type": "code",
   "execution_count": 26,
   "id": "712b7007-e48c-448a-bb7d-35ce725f88d1",
   "metadata": {},
   "outputs": [
    {
     "data": {
      "text/plain": [
       "<Figure size 640x480 with 1 Axes>"
      ]
     },
     "execution_count": 26,
     "metadata": {},
     "output_type": "execute_result"
    }
   ],
   "source": [
    "simulator = Aer.get_backend('qasm_simulator')\n",
    "job = simulator.run(qc, shots=1024)\n",
    "result_superposition = job.result().get_counts()\n",
    "plot_histogram(result_superposition)"
   ]
  },
  {
   "cell_type": "code",
   "execution_count": 28,
   "id": "0817ab25-0868-420c-b815-969c517b7176",
   "metadata": {},
   "outputs": [
    {
     "data": {
      "text/plain": [
       "{'0011': 250, '0000': 256, '1100': 281, '1111': 237}"
      ]
     },
     "execution_count": 28,
     "metadata": {},
     "output_type": "execute_result"
    }
   ],
   "source": [
    "result_superposition"
   ]
  },
  {
   "cell_type": "code",
   "execution_count": 38,
   "id": "291edd78-c9a3-412f-bbf9-ea23314f7472",
   "metadata": {},
   "outputs": [
    {
     "data": {
      "text/plain": [
       "<Figure size 640x480 with 1 Axes>"
      ]
     },
     "execution_count": 38,
     "metadata": {},
     "output_type": "execute_result"
    }
   ],
   "source": [
    "def create_quantum_walk_circuit(steps):\n",
    "    # Create a quantum circuit with 2 qubits: 1 for position and 1 for coin state\n",
    "    qc1 = QuantumCircuit(2)\n",
    "    \n",
    "    # Initialize the coin in superposition\n",
    "    qc1.h(1)  # Hadamard gate on the coin qubit\n",
    "    \n",
    "    for _ in range(steps):\n",
    "        # Apply the quantum walk step\n",
    "        qc1.cx(1, 0)  # Control: coin qubit; Target: position qubit\n",
    "        qc1.h(1)  # Coin flip (Hadamard)\n",
    "        \n",
    "    # Measure the position qubit to extract the random number\n",
    "    qc1.measure_all()\n",
    "    return qc\n",
    "\n",
    "# Define the number of steps in the quantum walk\n",
    "steps = 5  # You can adjust this based on desired randomness\n",
    "\n",
    "# Create the quantum walk circuit\n",
    "qc1 = create_quantum_walk_circuit(steps)\n",
    "\n",
    "# Simulate the quantum walk\n",
    "simulator = Aer.get_backend('qasm_simulator')\n",
    "job1 = simulator.run(qc, shots=1024)\n",
    "result1 = job.result().get_counts()\n",
    "\n",
    "# Get the counts and visualize\n",
    "#counts1 = result.get_counts(qc1)\n",
    "#print(\"Counts:\", counts1)\n",
    "plot_histogram(result1)"
   ]
  },
  {
   "cell_type": "code",
   "execution_count": null,
   "id": "15328960-47f8-4542-9307-efd8f124cfcc",
   "metadata": {},
   "outputs": [],
   "source": []
  }
 ],
 "metadata": {
  "kernelspec": {
   "display_name": "Python 3 (ipykernel)",
   "language": "python",
   "name": "python3"
  },
  "language_info": {
   "codemirror_mode": {
    "name": "ipython",
    "version": 3
   },
   "file_extension": ".py",
   "mimetype": "text/x-python",
   "name": "python",
   "nbconvert_exporter": "python",
   "pygments_lexer": "ipython3",
   "version": "3.12.4"
  }
 },
 "nbformat": 4,
 "nbformat_minor": 5
}
